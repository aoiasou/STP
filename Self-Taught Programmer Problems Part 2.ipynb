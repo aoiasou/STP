{
 "cells": [
  {
   "cell_type": "code",
   "execution_count": 1,
   "metadata": {
    "collapsed": false
   },
   "outputs": [
    {
     "name": "stdout",
     "output_type": "stream",
     "text": [
      "Populating the interactive namespace from numpy and matplotlib\n"
     ]
    }
   ],
   "source": [
    "% pylab inline"
   ]
  },
  {
   "cell_type": "markdown",
   "metadata": {},
   "source": [
    "<font color= 'blue', size = 5 />__Chapter 12 Examples and Problems__<font>"
   ]
  },
  {
   "cell_type": "code",
   "execution_count": 9,
   "metadata": {
    "collapsed": true
   },
   "outputs": [],
   "source": [
    "class Orange:\n",
    "    def __init__(self, w, c):\n",
    "        self.weight = w\n",
    "        self.color = c\n",
    "        self.mold = 0\n",
    "        print(\"Created!\")\n",
    "        \n",
    "    def rot(self, days, temp):\n",
    "        self.mold = days*temp"
   ]
  },
  {
   "cell_type": "code",
   "execution_count": 5,
   "metadata": {
    "collapsed": false
   },
   "outputs": [
    {
     "name": "stdout",
     "output_type": "stream",
     "text": [
      "Created!\n",
      "<__main__.Orange instance at 0x104ac4c20>\n"
     ]
    }
   ],
   "source": [
    "or1 = Orange(10, \"dark orange\")\n",
    "print(or1)"
   ]
  },
  {
   "cell_type": "code",
   "execution_count": 6,
   "metadata": {
    "collapsed": false
   },
   "outputs": [
    {
     "name": "stdout",
     "output_type": "stream",
     "text": [
      "10\n",
      "dark orange\n"
     ]
    }
   ],
   "source": [
    "print(or1.weight)\n",
    "print(or1.color)"
   ]
  },
  {
   "cell_type": "code",
   "execution_count": 8,
   "metadata": {
    "collapsed": false
   },
   "outputs": [
    {
     "name": "stdout",
     "output_type": "stream",
     "text": [
      "100\n",
      "light orange\n"
     ]
    }
   ],
   "source": [
    "or1.weight = 100\n",
    "or1.color = \"light orange\"\n",
    "print(or1.weight)\n",
    "print(or1.color)"
   ]
  },
  {
   "cell_type": "code",
   "execution_count": 10,
   "metadata": {
    "collapsed": false
   },
   "outputs": [
    {
     "name": "stdout",
     "output_type": "stream",
     "text": [
      "Created!\n",
      "0\n",
      "980\n"
     ]
    }
   ],
   "source": [
    "orange = Orange(6, \"orange\")\n",
    "print(orange.mold)\n",
    "orange.rot(10, 98)\n",
    "print(orange.mold)"
   ]
  },
  {
   "cell_type": "code",
   "execution_count": 11,
   "metadata": {
    "collapsed": true
   },
   "outputs": [],
   "source": [
    "class Rectangle():\n",
    "    def __init__(self, w, l):\n",
    "        self.width = w\n",
    "        self.len = l\n",
    "        \n",
    "    def area(self):\n",
    "        return self.width * self.len\n",
    "    \n",
    "    def change_size(self, w, l):\n",
    "        self.width = w\n",
    "        self.len = l"
   ]
  },
  {
   "cell_type": "code",
   "execution_count": 12,
   "metadata": {
    "collapsed": false
   },
   "outputs": [
    {
     "name": "stdout",
     "output_type": "stream",
     "text": [
      "200\n",
      "800\n"
     ]
    }
   ],
   "source": [
    "rectangle = Rectangle(10, 20)\n",
    "print(rectangle.area())\n",
    "rectangle.change_size(20, 40)\n",
    "print(rectangle.area())"
   ]
  },
  {
   "cell_type": "code",
   "execution_count": 13,
   "metadata": {
    "collapsed": true
   },
   "outputs": [],
   "source": [
    "# 1\n",
    "class Apple():\n",
    "    def __init__(self, w, c, sw, h):\n",
    "        self.weight = w\n",
    "        self.color = c\n",
    "        self.sweetness = sw\n",
    "        self.hardness = h"
   ]
  },
  {
   "cell_type": "code",
   "execution_count": 14,
   "metadata": {
    "collapsed": true
   },
   "outputs": [],
   "source": [
    "# 2\n",
    "class Circle():\n",
    "    def __init__(self, r):\n",
    "        self.radius = r\n",
    "        \n",
    "    def area(self):\n",
    "        return math.pi*(self.radius)**2"
   ]
  },
  {
   "cell_type": "code",
   "execution_count": 17,
   "metadata": {
    "collapsed": false
   },
   "outputs": [
    {
     "name": "stdout",
     "output_type": "stream",
     "text": [
      "314.159265359\n"
     ]
    }
   ],
   "source": [
    "circle = Circle(10)\n",
    "print(circle.area())"
   ]
  },
  {
   "cell_type": "code",
   "execution_count": 18,
   "metadata": {
    "collapsed": true
   },
   "outputs": [],
   "source": [
    "# 3\n",
    "class Triangle():\n",
    "    def __init__(self, b, h):\n",
    "        self.base = b\n",
    "        self.height = h\n",
    "        \n",
    "    def area(self):\n",
    "        return self.base * self.height * 0.5"
   ]
  },
  {
   "cell_type": "code",
   "execution_count": 19,
   "metadata": {
    "collapsed": false
   },
   "outputs": [
    {
     "name": "stdout",
     "output_type": "stream",
     "text": [
      "30.0\n"
     ]
    }
   ],
   "source": [
    "triangle = Triangle(10, 6)\n",
    "print(triangle.area())"
   ]
  },
  {
   "cell_type": "code",
   "execution_count": 24,
   "metadata": {
    "collapsed": true
   },
   "outputs": [],
   "source": [
    "# 4\n",
    "class Hexagon():\n",
    "    def __init__(self, s1, s2, s3, s4, s5, s6):\n",
    "        self.side1 = s1\n",
    "        self.side2 = s2\n",
    "        self.side3 = s3\n",
    "        self.side4 = s4\n",
    "        self.side5 = s5\n",
    "        self.side6 = s6\n",
    "        \n",
    "        self.side = [s1, s2, s3, s4 ,s5, s6]\n",
    "        \n",
    "    def calculate_perimeter(self):\n",
    "        return sum(self.side)"
   ]
  },
  {
   "cell_type": "code",
   "execution_count": 25,
   "metadata": {
    "collapsed": false
   },
   "outputs": [
    {
     "name": "stdout",
     "output_type": "stream",
     "text": [
      "21\n"
     ]
    }
   ],
   "source": [
    "hexagon = Hexagon(3, 2, 4, 1, 5, 6)\n",
    "print(hexagon.calculate_perimeter())"
   ]
  },
  {
   "cell_type": "markdown",
   "metadata": {},
   "source": [
    "<font color= 'blue', size = 5 />__Chapter 13 Examples and Problems__<font>"
   ]
  },
  {
   "cell_type": "code",
   "execution_count": 52,
   "metadata": {
    "collapsed": true
   },
   "outputs": [],
   "source": [
    "# 1, 2\n",
    "class Rectangle():\n",
    "    def __init__(self, s1, s2):\n",
    "        self.side1 = s1\n",
    "        self.side2 = s2\n",
    "        \n",
    "    def calculate_perimeter(self):\n",
    "        return (self.side1+self.side2)*2"
   ]
  },
  {
   "cell_type": "code",
   "execution_count": 53,
   "metadata": {
    "collapsed": true
   },
   "outputs": [],
   "source": [
    "class Square():\n",
    "    def __init__(self, s):\n",
    "        self.side = s\n",
    "        \n",
    "    def calculate_perimeter(self):\n",
    "        return self.side * 4\n",
    "    \n",
    "    def change_size(self, new_size):\n",
    "        self.side += new_size"
   ]
  },
  {
   "cell_type": "code",
   "execution_count": 54,
   "metadata": {
    "collapsed": false
   },
   "outputs": [
    {
     "data": {
      "text/plain": [
       "6"
      ]
     },
     "execution_count": 54,
     "metadata": {},
     "output_type": "execute_result"
    }
   ],
   "source": [
    "rectangle = Rectangle(1,2)\n",
    "rectangle.calculate_perimeter()"
   ]
  },
  {
   "cell_type": "code",
   "execution_count": 58,
   "metadata": {
    "collapsed": false
   },
   "outputs": [
    {
     "data": {
      "text/plain": [
       "12"
      ]
     },
     "execution_count": 58,
     "metadata": {},
     "output_type": "execute_result"
    }
   ],
   "source": [
    "square = Square(3)\n",
    "square.calculate_perimeter()"
   ]
  },
  {
   "cell_type": "code",
   "execution_count": 59,
   "metadata": {
    "collapsed": false
   },
   "outputs": [
    {
     "data": {
      "text/plain": [
       "8"
      ]
     },
     "execution_count": 59,
     "metadata": {},
     "output_type": "execute_result"
    }
   ],
   "source": [
    "square.change_size(-1)\n",
    "square.calculate_perimeter()"
   ]
  },
  {
   "cell_type": "code",
   "execution_count": 60,
   "metadata": {
    "collapsed": true
   },
   "outputs": [],
   "source": [
    "# 3\n",
    "class Shape():\n",
    "    def what_am_i(self):\n",
    "        print(\"I am a shape\")"
   ]
  },
  {
   "cell_type": "code",
   "execution_count": 61,
   "metadata": {
    "collapsed": false
   },
   "outputs": [
    {
     "name": "stdout",
     "output_type": "stream",
     "text": [
      "I am a shape\n"
     ]
    }
   ],
   "source": [
    "shape = Shape()\n",
    "shape.what_am_i()"
   ]
  },
  {
   "cell_type": "code",
   "execution_count": 63,
   "metadata": {
    "collapsed": true
   },
   "outputs": [],
   "source": [
    "class Rectangle(Shape):\n",
    "    def __init__(self, width, length):\n",
    "        self.width = width\n",
    "        self.length = length\n",
    "        \n",
    "    def calculate_perimeter(self):\n",
    "        return self.width * 2 + self.length * 2"
   ]
  },
  {
   "cell_type": "code",
   "execution_count": 64,
   "metadata": {
    "collapsed": true
   },
   "outputs": [],
   "source": [
    "class Square(Shape):\n",
    "    def __init__(self, s1):\n",
    "        self.s1 =s1\n",
    "        \n",
    "    def calculate_perimeter(self):\n",
    "        return self.s1 * 4"
   ]
  },
  {
   "cell_type": "code",
   "execution_count": 65,
   "metadata": {
    "collapsed": false
   },
   "outputs": [
    {
     "name": "stdout",
     "output_type": "stream",
     "text": [
      "I am a shape\n"
     ]
    }
   ],
   "source": [
    "square = Square(29)\n",
    "square.what_am_i()"
   ]
  },
  {
   "cell_type": "code",
   "execution_count": 66,
   "metadata": {
    "collapsed": false
   },
   "outputs": [
    {
     "name": "stdout",
     "output_type": "stream",
     "text": [
      "I am a shape\n"
     ]
    }
   ],
   "source": [
    "rect = Rectangle(20, 50)\n",
    "rect.what_am_i()"
   ]
  },
  {
   "cell_type": "code",
   "execution_count": 67,
   "metadata": {
    "collapsed": true
   },
   "outputs": [],
   "source": [
    "# 4\n",
    "class Horse():\n",
    "    def __init__(self, name, rider):\n",
    "        self.name = name\n",
    "        self.rider = rider\n",
    "        \n",
    "class Rider():\n",
    "    def __init__(self, name, height):\n",
    "        self.name = name\n",
    "        self.height = height"
   ]
  },
  {
   "cell_type": "code",
   "execution_count": 68,
   "metadata": {
    "collapsed": false
   },
   "outputs": [
    {
     "name": "stdout",
     "output_type": "stream",
     "text": [
      "Yutaka Take\n",
      "160\n"
     ]
    }
   ],
   "source": [
    "yutaka = Rider(\"Yutaka Take\", 160)\n",
    "kb = Horse(\"Kitasan Black\", yutaka)\n",
    "print(kb.rider.name)\n",
    "print(kb.rider.height)"
   ]
  },
  {
   "cell_type": "markdown",
   "metadata": {},
   "source": [
    "<font color= 'blue', size = 5 />__Chapter 14 Examples and Problems__<font>"
   ]
  },
  {
   "cell_type": "code",
   "execution_count": 85,
   "metadata": {
    "collapsed": true
   },
   "outputs": [],
   "source": [
    "# 1\n",
    "class Square:\n",
    "    squares = []\n",
    "    def __init__(self, side):\n",
    "        self.side = side\n",
    "        self.squares.append(self.side)"
   ]
  },
  {
   "cell_type": "code",
   "execution_count": 86,
   "metadata": {
    "collapsed": false
   },
   "outputs": [
    {
     "name": "stdout",
     "output_type": "stream",
     "text": [
      "[4, 3, 1]\n"
     ]
    }
   ],
   "source": [
    "sq1 = Square(4)\n",
    "sq2 = Square(3)\n",
    "sq3 = Square(1)\n",
    "\n",
    "print(Square.squares)"
   ]
  },
  {
   "cell_type": "code",
   "execution_count": 96,
   "metadata": {
    "collapsed": true
   },
   "outputs": [],
   "source": [
    "# 2\n",
    "class Square:\n",
    "    squares = []\n",
    "    def __init__(self, side):\n",
    "        self.side = side\n",
    "        self.squares.append(self.side)\n",
    "        \n",
    "    def __repr__(self):\n",
    "        return (\"{} by {} by {}\".format(self.side, self.side, self.side))"
   ]
  },
  {
   "cell_type": "code",
   "execution_count": 99,
   "metadata": {
    "collapsed": false
   },
   "outputs": [
    {
     "name": "stdout",
     "output_type": "stream",
     "text": [
      "3 by 3 by 3\n"
     ]
    }
   ],
   "source": [
    "sq = Square(3)\n",
    "print(sq)"
   ]
  },
  {
   "cell_type": "code",
   "execution_count": 82,
   "metadata": {
    "collapsed": false
   },
   "outputs": [
    {
     "name": "stdout",
     "output_type": "stream",
     "text": [
      "False\n",
      "True\n"
     ]
    }
   ],
   "source": [
    "# 3\n",
    "class Params:\n",
    "    pass\n",
    "\n",
    "x = Params()\n",
    "y = Params()\n",
    "z = x\n",
    "\n",
    "print(x is y)\n",
    "print(x is z)"
   ]
  },
  {
   "cell_type": "code",
   "execution_count": 101,
   "metadata": {
    "collapsed": false
   },
   "outputs": [],
   "source": [
    "# 3\n",
    "def compare(obj1, obj2):\n",
    "    return obj1 is obj2"
   ]
  },
  {
   "cell_type": "code",
   "execution_count": 102,
   "metadata": {
    "collapsed": false
   },
   "outputs": [
    {
     "name": "stdout",
     "output_type": "stream",
     "text": [
      "False\n"
     ]
    }
   ],
   "source": [
    "print(compare(\"a\", \"b\"))"
   ]
  },
  {
   "cell_type": "code",
   "execution_count": 103,
   "metadata": {
    "collapsed": false
   },
   "outputs": [
    {
     "name": "stdout",
     "output_type": "stream",
     "text": [
      "True\n"
     ]
    }
   ],
   "source": [
    "print(compare(\"a\", \"a\"))"
   ]
  },
  {
   "cell_type": "markdown",
   "metadata": {},
   "source": [
    "<font color= 'blue', size = 5 />__Chapter 15 Examples and Problems__<font>"
   ]
  },
  {
   "cell_type": "code",
   "execution_count": 112,
   "metadata": {
    "collapsed": true
   },
   "outputs": [],
   "source": [
    "# making a game 'War'\n",
    "\n",
    "class Card:\n",
    "    suits = [\"spades\", \"hearts\", \"diamonds\", \"clubs\"]\n",
    "    \n",
    "    values = [None, None, \"2\", \"3\", \"4\", \"5\", \"6\",\n",
    "              \"7\", \"8\", \"9\", \"10\", \"Jack\", \"Queen\", \"King\", \"Ace\"]\n",
    "    \n",
    "    def __init__(self, v, s):\n",
    "        \"\"\"suit + value are ints\"\"\"\n",
    "        self.value = v\n",
    "        self.suit = s\n",
    "        \n",
    "    def __lt__(self, c2):\n",
    "        if self.value < c2.value:\n",
    "            return True\n",
    "        if self.value == c2.value:\n",
    "            if self.suit < c2.suit:\n",
    "                return True\n",
    "            else:\n",
    "                return False\n",
    "        return False\n",
    "    \n",
    "    def __gt__(self, c2):\n",
    "        if self.value > c2.value:\n",
    "            return True\n",
    "        if self.value == c2.value:\n",
    "            if self.suit > c2.suit:\n",
    "                return True\n",
    "            else:\n",
    "                return False\n",
    "        return False\n",
    "    \n",
    "    def __repr__(self):\n",
    "        v = self.values[self.value] + \" of \" + self.suits[self.suit]\n",
    "        return v"
   ]
  },
  {
   "cell_type": "code",
   "execution_count": 113,
   "metadata": {
    "collapsed": false
   },
   "outputs": [
    {
     "name": "stdout",
     "output_type": "stream",
     "text": [
      "True\n",
      "False\n"
     ]
    }
   ],
   "source": [
    "card1 = Card(10, 2)\n",
    "card2 = Card(11, 3)\n",
    "print(card1 < card2)\n",
    "print(card1 > card2)"
   ]
  },
  {
   "cell_type": "code",
   "execution_count": 114,
   "metadata": {
    "collapsed": false
   },
   "outputs": [
    {
     "name": "stdout",
     "output_type": "stream",
     "text": [
      "3 of diamonds\n"
     ]
    }
   ],
   "source": [
    "card = Card(3, 2)\n",
    "print(card)"
   ]
  },
  {
   "cell_type": "code",
   "execution_count": 115,
   "metadata": {
    "collapsed": true
   },
   "outputs": [],
   "source": [
    "from random import shuffle\n",
    "\n",
    "class Deck:\n",
    "    def __init__(self):\n",
    "        self.cards = []\n",
    "        for i in range(2, 15):\n",
    "            for j in range(4):\n",
    "                self.cards.append(Card(i, j))\n",
    "        shuffle(self.cards)\n",
    "        \n",
    "    def rm_card(self):\n",
    "        if len(self.cards) == 0:\n",
    "            return\n",
    "        return self.cards.pop()"
   ]
  },
  {
   "cell_type": "code",
   "execution_count": 116,
   "metadata": {
    "collapsed": false,
    "scrolled": true
   },
   "outputs": [
    {
     "name": "stdout",
     "output_type": "stream",
     "text": [
      "2 of diamonds\n",
      "8 of hearts\n",
      "7 of spades\n",
      "Jack of clubs\n",
      "King of diamonds\n",
      "10 of spades\n",
      "2 of spades\n",
      "3 of diamonds\n",
      "4 of clubs\n",
      "6 of clubs\n",
      "Jack of diamonds\n",
      "8 of diamonds\n",
      "6 of diamonds\n",
      "King of spades\n",
      "Ace of clubs\n",
      "10 of clubs\n",
      "5 of diamonds\n",
      "10 of hearts\n",
      "7 of hearts\n",
      "King of clubs\n",
      "6 of spades\n",
      "Jack of spades\n",
      "9 of hearts\n",
      "9 of diamonds\n",
      "King of hearts\n",
      "4 of spades\n",
      "2 of clubs\n",
      "8 of clubs\n",
      "6 of hearts\n",
      "Queen of hearts\n",
      "9 of spades\n",
      "7 of clubs\n",
      "Ace of hearts\n",
      "Queen of clubs\n",
      "5 of spades\n",
      "5 of hearts\n",
      "8 of spades\n",
      "Ace of spades\n",
      "4 of hearts\n",
      "3 of clubs\n",
      "Queen of diamonds\n",
      "7 of diamonds\n",
      "2 of hearts\n",
      "Ace of diamonds\n",
      "4 of diamonds\n",
      "3 of hearts\n",
      "5 of clubs\n",
      "Queen of spades\n",
      "3 of spades\n",
      "10 of diamonds\n",
      "Jack of hearts\n",
      "9 of clubs\n"
     ]
    }
   ],
   "source": [
    "deck = Deck()\n",
    "for card in deck.cards:\n",
    "    print(card)"
   ]
  },
  {
   "cell_type": "code",
   "execution_count": 117,
   "metadata": {
    "collapsed": true
   },
   "outputs": [],
   "source": [
    "class Player:\n",
    "    def __init__(self, name):\n",
    "        self.wins = 0\n",
    "        self.card = None\n",
    "        self.name = name"
   ]
  },
  {
   "cell_type": "code",
   "execution_count": 118,
   "metadata": {
    "collapsed": true
   },
   "outputs": [],
   "source": [
    "class Game:\n",
    "    def __init__(self):\n",
    "        name1 = input(\"p1 name \")\n",
    "        name2 = input(\"p2 name \")\n",
    "        self.deck = Deck()\n",
    "        self.p1 = Player(name1)\n",
    "        self.p2 = Player(name2)\n",
    "        \n",
    "    def wins(self, winner):\n",
    "        w = \"{} wins this round\"\n",
    "        w = w.format(winner)\n",
    "        print(w)\n",
    "        \n",
    "    def draw(self, p1n, p1c, p2n, p2c):\n",
    "        d = \"{} drew {} {} drew {}\"\n",
    "        d = d.format(p1n, p1c, p2n, p2c)\n",
    "        print(d)\n",
    "        \n",
    "    def play_game(self):\n",
    "        cards = self.deck.cards\n",
    "        print(\"beginning War!\")\n",
    "        while len(cards) >= 2:\n",
    "            m = \"q to quit. Any \" + \"key to play:\"\n",
    "            response = input(m)\n",
    "            if response == 'q':\n",
    "                break\n",
    "            p1c = self.deck.rm_card()\n",
    "            p2c = self.deck.rm_card()\n",
    "            p1n = self.p1.name\n",
    "            p2n = self.p2.name\n",
    "            self.draw(p1n, p1c, p2n, p2c)\n",
    "            if p1c > p2c:\n",
    "                self.p1.wins += 1\n",
    "                self.wins(self.p1.name)\n",
    "            else:\n",
    "                self.p2.wins += 1\n",
    "                self.wins(self.p2.name)\n",
    "                \n",
    "                \n",
    "        win = self.winner(self.p1, self.p2)\n",
    "        \n",
    "        print(\"War is over. {} wins\".format(win))\n",
    "        \n",
    "    \n",
    "    def winner(self, p1, p2):\n",
    "        if p1.wins > p2.wins:\n",
    "            return p1.name\n",
    "        if p1.wins < p2.wins:\n",
    "            return p2.name\n",
    "        return \"It was a tie!\""
   ]
  },
  {
   "cell_type": "code",
   "execution_count": 121,
   "metadata": {
    "collapsed": false,
    "scrolled": true
   },
   "outputs": [
    {
     "name": "stdout",
     "output_type": "stream",
     "text": [
      "p1 name 'A'\n",
      "p2 name 'B'\n",
      "beginning War!\n",
      "q to quit. Any key to play:1\n",
      "A drew 3 of clubs B drew 4 of hearts\n",
      "B wins this round\n",
      "q to quit. Any key to play:1\n",
      "A drew 7 of spades B drew 10 of clubs\n",
      "B wins this round\n",
      "q to quit. Any key to play:1\n",
      "A drew 10 of hearts B drew Queen of spades\n",
      "B wins this round\n",
      "q to quit. Any key to play:1\n",
      "A drew 6 of clubs B drew Ace of spades\n",
      "B wins this round\n",
      "q to quit. Any key to play:1\n",
      "A drew 7 of clubs B drew Jack of diamonds\n",
      "B wins this round\n",
      "q to quit. Any key to play:1\n",
      "A drew Jack of hearts B drew 9 of clubs\n",
      "A wins this round\n",
      "q to quit. Any key to play:1\n",
      "A drew King of spades B drew 5 of hearts\n",
      "A wins this round\n",
      "q to quit. Any key to play:1\n",
      "A drew 6 of diamonds B drew 8 of diamonds\n",
      "B wins this round\n",
      "q to quit. Any key to play:1\n",
      "A drew 6 of spades B drew 8 of clubs\n",
      "B wins this round\n",
      "q to quit. Any key to play:1\n",
      "A drew Queen of diamonds B drew 9 of spades\n",
      "A wins this round\n",
      "q to quit. Any key to play:1\n",
      "A drew 7 of hearts B drew Queen of clubs\n",
      "B wins this round\n",
      "q to quit. Any key to play:1\n",
      "A drew 7 of diamonds B drew Ace of diamonds\n",
      "B wins this round\n",
      "q to quit. Any key to play:1\n",
      "A drew 2 of clubs B drew 3 of diamonds\n",
      "B wins this round\n",
      "q to quit. Any key to play:1\n",
      "A drew 3 of hearts B drew 9 of diamonds\n",
      "B wins this round\n",
      "q to quit. Any key to play:1\n",
      "A drew 8 of spades B drew Jack of clubs\n",
      "B wins this round\n",
      "q to quit. Any key to play:1\n",
      "A drew King of clubs B drew 10 of diamonds\n",
      "A wins this round\n",
      "q to quit. Any key to play:1\n",
      "A drew King of hearts B drew 6 of hearts\n",
      "A wins this round\n",
      "q to quit. Any key to play:1\n",
      "A drew 4 of diamonds B drew 8 of hearts\n",
      "B wins this round\n",
      "q to quit. Any key to play:1\n",
      "A drew Ace of hearts B drew 4 of spades\n",
      "A wins this round\n",
      "q to quit. Any key to play:1\n",
      "A drew 5 of spades B drew 9 of hearts\n",
      "B wins this round\n",
      "q to quit. Any key to play:1\n",
      "A drew 2 of spades B drew Queen of hearts\n",
      "B wins this round\n",
      "q to quit. Any key to play:1\n",
      "A drew Ace of clubs B drew 3 of spades\n",
      "A wins this round\n",
      "q to quit. Any key to play:1\n",
      "A drew 2 of hearts B drew 5 of clubs\n",
      "B wins this round\n",
      "q to quit. Any key to play:1\n",
      "A drew King of diamonds B drew 4 of clubs\n",
      "A wins this round\n",
      "q to quit. Any key to play:1\n",
      "A drew Jack of spades B drew 2 of diamonds\n",
      "A wins this round\n",
      "q to quit. Any key to play:1\n",
      "A drew 10 of spades B drew 5 of diamonds\n",
      "A wins this round\n",
      "War is over. B wins\n"
     ]
    }
   ],
   "source": [
    "game = Game()\n",
    "game.play_game()"
   ]
  },
  {
   "cell_type": "code",
   "execution_count": null,
   "metadata": {
    "collapsed": true
   },
   "outputs": [],
   "source": []
  }
 ],
 "metadata": {
  "kernelspec": {
   "display_name": "Python 2",
   "language": "python",
   "name": "python2"
  },
  "language_info": {
   "codemirror_mode": {
    "name": "ipython",
    "version": 2
   },
   "file_extension": ".py",
   "mimetype": "text/x-python",
   "name": "python",
   "nbconvert_exporter": "python",
   "pygments_lexer": "ipython2",
   "version": "2.7.13"
  }
 },
 "nbformat": 4,
 "nbformat_minor": 2
}
