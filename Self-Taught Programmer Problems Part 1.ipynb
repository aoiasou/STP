{
 "cells": [
  {
   "cell_type": "markdown",
   "metadata": {
    "deletable": true,
    "editable": true
   },
   "source": [
    "<font color= 'blue', size = 5 />__Chapter 4 Problems__<font>"
   ]
  },
  {
   "cell_type": "code",
   "execution_count": 6,
   "metadata": {
    "collapsed": true,
    "deletable": true,
    "editable": true
   },
   "outputs": [],
   "source": [
    "# 1\n",
    "def ch4_1():\n",
    "    try:\n",
    "        x = input(\"Type a Number :\")\n",
    "        x = int(x)\n",
    "        print x**2\n",
    "    except ValueError:\n",
    "        print(\"Please Type a Number\")\n",
    "    return"
   ]
  },
  {
   "cell_type": "code",
   "execution_count": 7,
   "metadata": {
    "collapsed": false,
    "deletable": true,
    "editable": true
   },
   "outputs": [
    {
     "name": "stdout",
     "output_type": "stream",
     "text": [
      "Type a Number :1\n",
      "1\n"
     ]
    }
   ],
   "source": [
    "ch4_1()"
   ]
  },
  {
   "cell_type": "code",
   "execution_count": 8,
   "metadata": {
    "collapsed": false,
    "deletable": true,
    "editable": true
   },
   "outputs": [
    {
     "name": "stdout",
     "output_type": "stream",
     "text": [
      "Type a Number :'d'\n",
      "Please Type a Number\n"
     ]
    }
   ],
   "source": [
    "ch4_1()"
   ]
  },
  {
   "cell_type": "code",
   "execution_count": 9,
   "metadata": {
    "collapsed": true,
    "deletable": true,
    "editable": true
   },
   "outputs": [],
   "source": [
    "# 2\n",
    "def ch4_2():\n",
    "    x = input(\"Type a Word :\")\n",
    "    x = str(x)\n",
    "    return"
   ]
  },
  {
   "cell_type": "code",
   "execution_count": 12,
   "metadata": {
    "collapsed": false,
    "deletable": true,
    "editable": true
   },
   "outputs": [
    {
     "name": "stdout",
     "output_type": "stream",
     "text": [
      "Type a Word :'a'\n"
     ]
    }
   ],
   "source": [
    "ch4_2()"
   ]
  },
  {
   "cell_type": "code",
   "execution_count": 13,
   "metadata": {
    "collapsed": false,
    "deletable": true,
    "editable": true
   },
   "outputs": [
    {
     "name": "stdout",
     "output_type": "stream",
     "text": [
      "Type a Word :3\n"
     ]
    }
   ],
   "source": [
    "ch4_2()"
   ]
  },
  {
   "cell_type": "code",
   "execution_count": 14,
   "metadata": {
    "collapsed": true,
    "deletable": true,
    "editable": true
   },
   "outputs": [],
   "source": [
    "# 3\n",
    "def ch4_3(x, y, z, a = 10, b = 5):\n",
    "    return x + y + z + a"
   ]
  },
  {
   "cell_type": "code",
   "execution_count": 15,
   "metadata": {
    "collapsed": false,
    "deletable": true,
    "editable": true
   },
   "outputs": [
    {
     "data": {
      "text/plain": [
       "14"
      ]
     },
     "execution_count": 15,
     "metadata": {},
     "output_type": "execute_result"
    }
   ],
   "source": [
    "ch4_3(1, 1, 2)"
   ]
  },
  {
   "cell_type": "code",
   "execution_count": 16,
   "metadata": {
    "collapsed": true,
    "deletable": true,
    "editable": true
   },
   "outputs": [],
   "source": [
    "# 4\n",
    "def ch4_4_1(x):\n",
    "    return x / 2.0\n",
    "\n",
    "def ch4_4_2(x):\n",
    "    return x * 4.0"
   ]
  },
  {
   "cell_type": "code",
   "execution_count": 17,
   "metadata": {
    "collapsed": false,
    "deletable": true,
    "editable": true
   },
   "outputs": [
    {
     "name": "stdout",
     "output_type": "stream",
     "text": [
      "1.0\n"
     ]
    },
    {
     "data": {
      "text/plain": [
       "4.0"
      ]
     },
     "execution_count": 17,
     "metadata": {},
     "output_type": "execute_result"
    }
   ],
   "source": [
    "a = ch4_4_1(2)\n",
    "print a\n",
    "ch4_4_2(a)"
   ]
  },
  {
   "cell_type": "code",
   "execution_count": 18,
   "metadata": {
    "collapsed": true,
    "deletable": true,
    "editable": true
   },
   "outputs": [],
   "source": [
    "# 5\n",
    "def ch5(x):\n",
    "    try:\n",
    "        x = float(x)\n",
    "        print x\n",
    "    except ValueError:\n",
    "        print(\"Cannot Convert the Input to a Float\")\n",
    "    return"
   ]
  },
  {
   "cell_type": "code",
   "execution_count": 19,
   "metadata": {
    "collapsed": false,
    "deletable": true,
    "editable": true
   },
   "outputs": [
    {
     "name": "stdout",
     "output_type": "stream",
     "text": [
      "0.58\n"
     ]
    }
   ],
   "source": [
    "ch5('0.58')"
   ]
  },
  {
   "cell_type": "code",
   "execution_count": 20,
   "metadata": {
    "collapsed": false,
    "deletable": true,
    "editable": true
   },
   "outputs": [
    {
     "name": "stdout",
     "output_type": "stream",
     "text": [
      "45.0\n"
     ]
    }
   ],
   "source": [
    "ch5(45)"
   ]
  },
  {
   "cell_type": "code",
   "execution_count": 21,
   "metadata": {
    "collapsed": false,
    "deletable": true,
    "editable": true
   },
   "outputs": [
    {
     "name": "stdout",
     "output_type": "stream",
     "text": [
      "Cannot Convert the Input to a Float\n"
     ]
    }
   ],
   "source": [
    "ch5('o')"
   ]
  },
  {
   "cell_type": "markdown",
   "metadata": {
    "deletable": true,
    "editable": true
   },
   "source": [
    "<font color= 'blue', size = 5 />__Chapter 5 Problems__<font>"
   ]
  },
  {
   "cell_type": "code",
   "execution_count": 22,
   "metadata": {
    "collapsed": false,
    "deletable": true,
    "editable": true
   },
   "outputs": [
    {
     "data": {
      "text/plain": [
       "['Halestorm', 'Journey', 'Stevie Ray']"
      ]
     },
     "execution_count": 22,
     "metadata": {},
     "output_type": "execute_result"
    }
   ],
   "source": [
    "# 1\n",
    "My_Fav_Musicians = ['Halestorm', 'Journey', 'Stevie Ray']\n",
    "My_Fav_Musicians"
   ]
  },
  {
   "cell_type": "code",
   "execution_count": 23,
   "metadata": {
    "collapsed": false,
    "deletable": true,
    "editable": true
   },
   "outputs": [
    {
     "data": {
      "text/plain": [
       "[(40.110006, -88.223772), (32.233782, -110.971756)]"
      ]
     },
     "execution_count": 23,
     "metadata": {},
     "output_type": "execute_result"
    }
   ],
   "source": [
    "# 2\n",
    "Locations = [(40.110006, -88.223772), (32.233782, -110.971756)]\n",
    "Locations"
   ]
  },
  {
   "cell_type": "code",
   "execution_count": 24,
   "metadata": {
    "collapsed": false,
    "deletable": true,
    "editable": true
   },
   "outputs": [
    {
     "data": {
      "text/plain": [
       "{'favorite color': 'black', 'height': 168}"
      ]
     },
     "execution_count": 24,
     "metadata": {},
     "output_type": "execute_result"
    }
   ],
   "source": [
    "# 3\n",
    "Attributes = {'height' : 168, 'favorite color' : 'black'}\n",
    "Attributes"
   ]
  },
  {
   "cell_type": "code",
   "execution_count": 25,
   "metadata": {
    "collapsed": false,
    "deletable": true,
    "editable": true
   },
   "outputs": [],
   "source": [
    "# 4\n",
    "def ch5_4():\n",
    "    x = input(\"Type an Attribute: \")\n",
    "    x = str(x)\n",
    "    if x in Attributes:\n",
    "        print Attributes[x]\n",
    "    else:\n",
    "        print(\"No Corresponding Attribute\")\n",
    "    return"
   ]
  },
  {
   "cell_type": "code",
   "execution_count": 28,
   "metadata": {
    "collapsed": false,
    "deletable": true,
    "editable": true
   },
   "outputs": [
    {
     "name": "stdout",
     "output_type": "stream",
     "text": [
      "Type an Attribute: 'height'\n",
      "168\n"
     ]
    }
   ],
   "source": [
    "ch5_4()"
   ]
  },
  {
   "cell_type": "code",
   "execution_count": 29,
   "metadata": {
    "collapsed": false,
    "deletable": true,
    "editable": true
   },
   "outputs": [
    {
     "name": "stdout",
     "output_type": "stream",
     "text": [
      "Type an Attribute: 'weight'\n",
      "No Corresponding Attribute\n"
     ]
    }
   ],
   "source": [
    "ch5_4()"
   ]
  },
  {
   "cell_type": "code",
   "execution_count": 30,
   "metadata": {
    "collapsed": false,
    "deletable": true,
    "editable": true
   },
   "outputs": [
    {
     "data": {
      "text/plain": [
       "{'Halestorm': ['Love Bites', 'Bet U Wish U Had Me Back'],\n",
       " 'Journey': [\"Don't Stop Believin'\", \"I'll Be Alright Without You\"],\n",
       " 'Stevie Ray': [\"Scuttle Buttin'\", 'Lenny']}"
      ]
     },
     "execution_count": 30,
     "metadata": {},
     "output_type": "execute_result"
    }
   ],
   "source": [
    "# 5\n",
    "songs1 = ['Love Bites', 'Bet U Wish U Had Me Back']\n",
    "songs2 = [\"Don't Stop Believin'\", \"I'll Be Alright Without You\" ]\n",
    "songs3 = [\"Scuttle Buttin'\", \"Lenny\"]\n",
    "\n",
    "songs = [songs1, songs2, songs3]\n",
    "\n",
    "My_Fav_MS = {My_Fav_Musicians[i] : songs[i] for i in range(3)}\n",
    "My_Fav_MS"
   ]
  },
  {
   "cell_type": "code",
   "execution_count": 31,
   "metadata": {
    "collapsed": false,
    "deletable": true,
    "editable": true
   },
   "outputs": [
    {
     "name": "stdout",
     "output_type": "stream",
     "text": [
      "['Love Bites', 'Bet U Wish U Had Me Back']\n",
      "[\"Don't Stop Believin'\", \"I'll Be Alright Without You\"]\n",
      "[\"Scuttle Buttin'\", 'Lenny']\n"
     ]
    }
   ],
   "source": [
    "print My_Fav_MS['Halestorm']\n",
    "print My_Fav_MS['Journey']\n",
    "print My_Fav_MS['Stevie Ray']"
   ]
  },
  {
   "cell_type": "code",
   "execution_count": 32,
   "metadata": {
    "collapsed": false,
    "deletable": true,
    "editable": true
   },
   "outputs": [
    {
     "data": {
      "text/plain": [
       "{1, 2, 4, 5}"
      ]
     },
     "execution_count": 32,
     "metadata": {},
     "output_type": "execute_result"
    }
   ],
   "source": [
    "# 6\n",
    "a = [1,1,2,4,5,5]\n",
    "b = set(a)\n",
    "b"
   ]
  },
  {
   "cell_type": "markdown",
   "metadata": {
    "deletable": true,
    "editable": true
   },
   "source": [
    "<font color= 'blue', size = 5 />__Chapter 6 Problems__<font>"
   ]
  },
  {
   "cell_type": "code",
   "execution_count": 33,
   "metadata": {
    "collapsed": false,
    "deletable": true,
    "editable": true
   },
   "outputs": [
    {
     "name": "stdout",
     "output_type": "stream",
     "text": [
      "C\n",
      "a\n",
      "m\n",
      "u\n",
      "s\n"
     ]
    }
   ],
   "source": [
    "# 1\n",
    "word = 'Camus'\n",
    "for character in word:\n",
    "    print character"
   ]
  },
  {
   "cell_type": "code",
   "execution_count": 34,
   "metadata": {
    "collapsed": true,
    "deletable": true,
    "editable": true
   },
   "outputs": [],
   "source": [
    "# 2\n",
    "def ch6_2():\n",
    "    word1 = input('Type your first word: ')\n",
    "    word1 = str(word1)\n",
    "    word2 = input('Type your second word: ')\n",
    "    word2 = str(word2)\n",
    "    print(\"Yesterday I wrote a {}. I sent it to {}!\".format(word1, word2))\n",
    "    return "
   ]
  },
  {
   "cell_type": "code",
   "execution_count": 35,
   "metadata": {
    "collapsed": false,
    "deletable": true,
    "editable": true
   },
   "outputs": [
    {
     "name": "stdout",
     "output_type": "stream",
     "text": [
      "Type your first word: 'poem'\n",
      "Type your second word: 'the garbage bin'\n",
      "Yesterday I wrote a poem. I sent it to the garbage bin!\n"
     ]
    }
   ],
   "source": [
    "ch6_2()"
   ]
  },
  {
   "cell_type": "code",
   "execution_count": 36,
   "metadata": {
    "collapsed": false,
    "deletable": true,
    "editable": true
   },
   "outputs": [],
   "source": [
    "# 3\n",
    "string = 'aldous Huxley was born in 1894.'\n",
    "string = string.split(\" \")\n",
    "string[0] = string[0].capitalize()\n",
    "\n",
    "new_string = ''\n",
    "for i in range(len(string)):\n",
    "    new_string += '{} '.format(string[i])"
   ]
  },
  {
   "cell_type": "code",
   "execution_count": 37,
   "metadata": {
    "collapsed": false,
    "deletable": true,
    "editable": true
   },
   "outputs": [
    {
     "data": {
      "text/plain": [
       "'Aldous Huxley was born in 1894. '"
      ]
     },
     "execution_count": 37,
     "metadata": {},
     "output_type": "execute_result"
    }
   ],
   "source": [
    "new_string"
   ]
  },
  {
   "cell_type": "code",
   "execution_count": 38,
   "metadata": {
    "collapsed": false,
    "deletable": true,
    "editable": true
   },
   "outputs": [
    {
     "data": {
      "text/plain": [
       "'Aldous Huxley Was Born In 1894.'"
      ]
     },
     "execution_count": 38,
     "metadata": {},
     "output_type": "execute_result"
    }
   ],
   "source": [
    "string = 'aldous Huxley was born in 1894.'.title()\n",
    "string"
   ]
  },
  {
   "cell_type": "code",
   "execution_count": 39,
   "metadata": {
    "collapsed": false,
    "deletable": true,
    "editable": true
   },
   "outputs": [
    {
     "data": {
      "text/plain": [
       "['Where now', ' Who now', ' When now']"
      ]
     },
     "execution_count": 39,
     "metadata": {},
     "output_type": "execute_result"
    }
   ],
   "source": [
    "# 4\n",
    "sentence4 = \"Where now? Who now? When now?\"\n",
    "\n",
    "List = sentence4.split('?')[:-1]\n",
    "\n",
    "List"
   ]
  },
  {
   "cell_type": "code",
   "execution_count": 40,
   "metadata": {
    "collapsed": false,
    "deletable": true,
    "editable": true
   },
   "outputs": [
    {
     "data": {
      "text/plain": [
       "'The fox jumped over the fence.'"
      ]
     },
     "execution_count": 40,
     "metadata": {},
     "output_type": "execute_result"
    }
   ],
   "source": [
    "# 5\n",
    "Word_List = [\"The\", \"fox\", \"jumped\", \"over\", \"the\", \"fence\", \".\"]\n",
    "sentence = \" \".join(Word_List[:-1])\n",
    "sentence = sentence + Word_List[-1]\n",
    "sentence"
   ]
  },
  {
   "cell_type": "code",
   "execution_count": 41,
   "metadata": {
    "collapsed": false,
    "deletable": true,
    "editable": true
   },
   "outputs": [
    {
     "data": {
      "text/plain": [
       "'A $creaming come$ acro$$ the $ky.'"
      ]
     },
     "execution_count": 41,
     "metadata": {},
     "output_type": "execute_result"
    }
   ],
   "source": [
    "# 6\n",
    "sentence6 = \"A screaming comes across the sky.\"\n",
    "sentence6 = sentence6.replace('s', '$')\n",
    "sentence6"
   ]
  },
  {
   "cell_type": "code",
   "execution_count": 42,
   "metadata": {
    "collapsed": false,
    "deletable": true,
    "editable": true
   },
   "outputs": [
    {
     "data": {
      "text/plain": [
       "2"
      ]
     },
     "execution_count": 42,
     "metadata": {},
     "output_type": "execute_result"
    }
   ],
   "source": [
    "# 7\n",
    "word7 = \"Hemingway\"\n",
    "word7.index('m')"
   ]
  },
  {
   "cell_type": "code",
   "execution_count": 43,
   "metadata": {
    "collapsed": false,
    "deletable": true,
    "editable": true
   },
   "outputs": [
    {
     "data": {
      "text/plain": [
       "\"Holmes said something like, in 'Scandal in Bohemia', 'You see, but you do not observe.' to Dr. Watoson.\""
      ]
     },
     "execution_count": 43,
     "metadata": {},
     "output_type": "execute_result"
    }
   ],
   "source": [
    "# 8\n",
    "quote1 = \"Holmes said something like, in 'Scandal in Bohemia', 'You see, but you do not observe.' to Dr. Watoson.\"\n",
    "quote1"
   ]
  },
  {
   "cell_type": "code",
   "execution_count": 44,
   "metadata": {
    "collapsed": false,
    "deletable": true,
    "editable": true
   },
   "outputs": [
    {
     "data": {
      "text/plain": [
       "'three three three'"
      ]
     },
     "execution_count": 44,
     "metadata": {},
     "output_type": "execute_result"
    }
   ],
   "source": [
    "# 9\n",
    "word9 = \"three\"\n",
    "conc = word9 + \" \" + word9 + \" \" + word9\n",
    "conc"
   ]
  },
  {
   "cell_type": "code",
   "execution_count": 45,
   "metadata": {
    "collapsed": false,
    "deletable": true,
    "editable": true
   },
   "outputs": [
    {
     "data": {
      "text/plain": [
       "'three three three'"
      ]
     },
     "execution_count": 45,
     "metadata": {},
     "output_type": "execute_result"
    }
   ],
   "source": [
    "# 9\n",
    "conc2 = (word9 + \" \")*3\n",
    "conc2 = conc2[:-1]\n",
    "conc2"
   ]
  },
  {
   "cell_type": "code",
   "execution_count": 46,
   "metadata": {
    "collapsed": false,
    "deletable": true,
    "editable": true
   },
   "outputs": [
    {
     "data": {
      "text/plain": [
       "'It was a bright cold day in April'"
      ]
     },
     "execution_count": 46,
     "metadata": {},
     "output_type": "execute_result"
    }
   ],
   "source": [
    "# 10\n",
    "string10 = \"It was a bright cold day in April, and the clocks were striking thirteen.\"\n",
    "string10_modified = string10.split(',')[0]\n",
    "string10_modified"
   ]
  },
  {
   "cell_type": "code",
   "execution_count": 47,
   "metadata": {
    "collapsed": false,
    "deletable": true,
    "editable": true
   },
   "outputs": [
    {
     "data": {
      "text/plain": [
       "'It was a bright cold day in April'"
      ]
     },
     "execution_count": 47,
     "metadata": {},
     "output_type": "execute_result"
    }
   ],
   "source": [
    "# 10\n",
    "string10 = \"It was a bright cold day in April, and the clocks were striking thirteen.\"\n",
    "string10_modified = string10[:33]\n",
    "string10_modified"
   ]
  },
  {
   "cell_type": "markdown",
   "metadata": {
    "deletable": true,
    "editable": true
   },
   "source": [
    "<font color= 'blue', size = 5 />__Chapter 7 Problems__<font>"
   ]
  },
  {
   "cell_type": "code",
   "execution_count": 49,
   "metadata": {
    "collapsed": false,
    "deletable": true,
    "editable": true
   },
   "outputs": [
    {
     "name": "stdout",
     "output_type": "stream",
     "text": [
      "The Walking Dead\n",
      "Entourage\n",
      "The Sopranos\n",
      "The Vampire Diaries\n"
     ]
    }
   ],
   "source": [
    "# 1\n",
    "shows = [\"The Walking Dead\", \"Entourage\", \"The Sopranos\", \"The Vampire Diaries\"]\n",
    "\n",
    "for i, show in enumerate(shows):\n",
    "    print shows[i]"
   ]
  },
  {
   "cell_type": "code",
   "execution_count": 50,
   "metadata": {
    "collapsed": false,
    "scrolled": true
   },
   "outputs": [
    {
     "name": "stdout",
     "output_type": "stream",
     "text": [
      "25\n",
      "26\n",
      "27\n",
      "28\n",
      "29\n",
      "30\n",
      "31\n",
      "32\n",
      "33\n",
      "34\n",
      "35\n",
      "36\n",
      "37\n",
      "38\n",
      "39\n",
      "40\n",
      "41\n",
      "42\n",
      "43\n",
      "44\n",
      "45\n",
      "46\n",
      "47\n",
      "48\n",
      "49\n",
      "50\n"
     ]
    }
   ],
   "source": [
    "# 2\n",
    "for i in range(25, 51):\n",
    "    print i"
   ]
  },
  {
   "cell_type": "code",
   "execution_count": 51,
   "metadata": {
    "collapsed": false
   },
   "outputs": [
    {
     "name": "stdout",
     "output_type": "stream",
     "text": [
      "0 The Walking Dead\n",
      "1 Entourage\n",
      "2 The Sopranos\n",
      "3 The Vampire Diaries\n"
     ]
    }
   ],
   "source": [
    "# 3\n",
    "shows = [\"The Walking Dead\", \"Entourage\", \"The Sopranos\", \"The Vampire Diaries\"]\n",
    "\n",
    "for i, show in enumerate(shows):\n",
    "    print i, shows[i]"
   ]
  },
  {
   "cell_type": "code",
   "execution_count": 65,
   "metadata": {
    "collapsed": false
   },
   "outputs": [
    {
     "name": "stdout",
     "output_type": "stream",
     "text": [
      "Type a number or type q to quit 6\n",
      "Correct!!!\n"
     ]
    }
   ],
   "source": [
    "# 4\n",
    "\n",
    "nlist = [str(i) for i in range(11)]\n",
    "\n",
    "while True:\n",
    "    a = input(\"Type a number or type q to quit \")\n",
    "    a = str(a)\n",
    "    if a in nlist:\n",
    "        print(\"Correct!!!\")\n",
    "        break\n",
    "    elif a == 'q':\n",
    "        print(\"Exiting the Game...\")\n",
    "        break\n",
    "    else:\n",
    "        a = input(\"Wrong number! Type a number or type q to quit \")"
   ]
  },
  {
   "cell_type": "code",
   "execution_count": 63,
   "metadata": {
    "collapsed": false
   },
   "outputs": [
    {
     "name": "stdout",
     "output_type": "stream",
     "text": [
      "[72, 8, 264, 664, 171, 19, 627, 1577, 1332, 148, 4884, 12284, 36, 4, 132, 332]\n"
     ]
    }
   ],
   "source": [
    "# 5\n",
    "list1 = [8, 19, 148, 4]\n",
    "list2 = [9, 1, 33, 83]\n",
    "list3 = list()\n",
    "\n",
    "for i in (list1):\n",
    "    for j in (list2):\n",
    "        list3.append(i*j)\n",
    "        \n",
    "print list3"
   ]
  },
  {
   "cell_type": "markdown",
   "metadata": {},
   "source": [
    "<font color= 'blue', size = 5 />__Chapter 8 Problems__<font>"
   ]
  },
  {
   "cell_type": "code",
   "execution_count": null,
   "metadata": {
    "collapsed": true
   },
   "outputs": [],
   "source": [
    "# 2\n",
    "def cubed(x):\n",
    "    return x**3"
   ]
  },
  {
   "cell_type": "markdown",
   "metadata": {},
   "source": [
    "<font color= 'blue', size = 5 />__Chapter 9 Problems__<font>"
   ]
  },
  {
   "cell_type": "code",
   "execution_count": 77,
   "metadata": {
    "collapsed": true
   },
   "outputs": [],
   "source": [
    "import csv"
   ]
  },
  {
   "cell_type": "code",
   "execution_count": 78,
   "metadata": {
    "collapsed": true
   },
   "outputs": [],
   "source": [
    "import os"
   ]
  },
  {
   "cell_type": "code",
   "execution_count": 90,
   "metadata": {
    "collapsed": false
   },
   "outputs": [],
   "source": [
    "path1 = os.path.join(\"Users\",\"satoshimatsuo\",\"Desktop\", \"Self Taught PG\", \"st.txt\")\n",
    "path = '/' + path1"
   ]
  },
  {
   "cell_type": "code",
   "execution_count": 91,
   "metadata": {
    "collapsed": false
   },
   "outputs": [
    {
     "name": "stdout",
     "output_type": "stream",
     "text": [
      "{\\rtf1\\ansi\\ansicpg1252\\cocoartf1504\\cocoasubrtf830\n",
      "{\\fonttbl\\f0\\fswiss\\fcharset0 Helvetica;}\n",
      "{\\colortbl;\\red255\\green255\\blue255;}\n",
      "{\\*\\expandedcolortbl;;}\n",
      "\\margl1440\\margr1440\\vieww10800\\viewh8400\\viewkind0\n",
      "\\pard\\tx720\\tx1440\\tx2160\\tx2880\\tx3600\\tx4320\\tx5040\\tx5760\\tx6480\\tx7200\\tx7920\\tx8640\\pardirnatural\\partightenfactor0\n",
      "\n",
      "\\f0\\fs24 \\cf0 one, two, three\\\n",
      "four, five, six}\n"
     ]
    }
   ],
   "source": [
    "# 1\n",
    "with open(path, \"r\") as f:\n",
    "    r = csv.reader(f, delimiter=\",\")\n",
    "    for row in r:\n",
    "        print(\",\".join(row))"
   ]
  },
  {
   "cell_type": "code",
   "execution_count": 107,
   "metadata": {
    "collapsed": false
   },
   "outputs": [
    {
     "name": "stdout",
     "output_type": "stream",
     "text": [
      "How Old Are You? 30\n"
     ]
    }
   ],
   "source": [
    "# 2\n",
    "path2 = os.path.join(\"Users\",\"satoshimatsuo\",\"Desktop\", \"Self Taught PG\", \"9_2.txt\")\n",
    "path = '/' + path2\n",
    "\n",
    "try:\n",
    "    a = input(\"How Old Are You? \")\n",
    "    a = int(a)\n",
    "    with open(path, \"w\") as f:\n",
    "        f.write(str(a))\n",
    "except ValueError:\n",
    "    print(\"Please Type a Number \")"
   ]
  },
  {
   "cell_type": "code",
   "execution_count": 108,
   "metadata": {
    "collapsed": false
   },
   "outputs": [],
   "source": [
    "# 3\n",
    "movie_list = [[\"Top Gun\", \"Risky Business\", \"Minority Report\"], [\"Titanic\", \"The Revenant\", \"Inception\"], [\"Training Day\", \"Man on Fire\", \"Flight\"]]\n",
    "\n",
    "path3 = os.path.join(\"Users\",\"satoshimatsuo\",\"Desktop\", \"Self Taught PG\", \"9_3.txt\")\n",
    "path = '/' + path3\n",
    "\n",
    "with open(path, \"w\")as f:\n",
    "    w = csv.writer(f, delimiter=\",\")\n",
    "    for item in movie_list:\n",
    "        w.writerow(item)"
   ]
  },
  {
   "cell_type": "markdown",
   "metadata": {},
   "source": [
    "<font color= 'blue', size = 5 />__Chapter 10 Problems__<font>"
   ]
  },
  {
   "cell_type": "code",
   "execution_count": 111,
   "metadata": {
    "collapsed": true
   },
   "outputs": [],
   "source": [
    "# hangman code\n",
    "\n",
    "def hangman(word):\n",
    "    wrong = 0\n",
    "    stages = [\"\",\n",
    "              \"_______       \",\n",
    "              \"|             \",\n",
    "              \"|      |      \",\n",
    "              \"|      0      \",\n",
    "              \"|     /|\\     \",\n",
    "              \"|     / \\     \",\n",
    "              \"|             \"             \n",
    "               ]\n",
    "    rletters = list(word)\n",
    "    board = [\"_\"]*len(word)\n",
    "    win = False\n",
    "    print(\"Welcome to Hangman\")\n",
    "    \n",
    "    while wrong < len(stages) - 1:\n",
    "        print(\"\\n\")\n",
    "        msg = \"Guess a letter\"\n",
    "        char = input(msg)\n",
    "        if char in rletters:\n",
    "            cind = rletters.index(char)\n",
    "            board[cind] = char\n",
    "            rletters[cind] = '$'\n",
    "        else:\n",
    "            wrong += 1\n",
    "        print((\" \".join(board)))\n",
    "        e = wrong + 1\n",
    "        print(\"\\n\".join(stages[0: e]))\n",
    "        if \"_\" not in board:\n",
    "            print(\"You Win!\")\n",
    "            print(\" \".join(board))\n",
    "            win = True\n",
    "            break\n",
    "            \n",
    "    if not win:\n",
    "        print(\"\\n\".join(stages[0: wrong]))\n",
    "        print(\"You lose! It was {}.\".format(word))\n",
    "        \n",
    "    return"
   ]
  },
  {
   "cell_type": "code",
   "execution_count": 112,
   "metadata": {
    "collapsed": false,
    "scrolled": true
   },
   "outputs": [
    {
     "name": "stdout",
     "output_type": "stream",
     "text": [
      "Welcome to Hangman\n",
      "\n",
      "\n",
      "Guess a letter'i'\n",
      "_ _ _\n",
      "\n",
      "_______       \n",
      "\n",
      "\n",
      "Guess a letter't'\n",
      "_ _ t\n",
      "\n",
      "_______       \n",
      "\n",
      "\n",
      "Guess a letter'e'\n",
      "_ _ t\n",
      "\n",
      "_______       \n",
      "|             \n",
      "\n",
      "\n",
      "Guess a letter'd'\n",
      "_ _ t\n",
      "\n",
      "_______       \n",
      "|             \n",
      "|      |      \n",
      "\n",
      "\n",
      "Guess a letter'e'\n",
      "_ _ t\n",
      "\n",
      "_______       \n",
      "|             \n",
      "|      |      \n",
      "|      0      \n",
      "\n",
      "\n",
      "Guess a letter'c'\n",
      "c _ t\n",
      "\n",
      "_______       \n",
      "|             \n",
      "|      |      \n",
      "|      0      \n",
      "\n",
      "\n",
      "Guess a letter''\n",
      "c _ t\n",
      "\n",
      "_______       \n",
      "|             \n",
      "|      |      \n",
      "|      0      \n",
      "|     /|\\     \n",
      "\n",
      "\n",
      "Guess a letter'c'\n",
      "c _ t\n",
      "\n",
      "_______       \n",
      "|             \n",
      "|      |      \n",
      "|      0      \n",
      "|     /|\\     \n",
      "|     / \\     \n",
      "\n",
      "\n",
      "Guess a letter'y'\n",
      "c _ t\n",
      "\n",
      "_______       \n",
      "|             \n",
      "|      |      \n",
      "|      0      \n",
      "|     /|\\     \n",
      "|     / \\     \n",
      "|             \n",
      "\n",
      "_______       \n",
      "|             \n",
      "|      |      \n",
      "|      0      \n",
      "|     /|\\     \n",
      "|     / \\     \n",
      "You lose! It was cat.\n"
     ]
    }
   ],
   "source": [
    "hangman(\"cat\")"
   ]
  },
  {
   "cell_type": "code",
   "execution_count": 113,
   "metadata": {
    "collapsed": false,
    "scrolled": true
   },
   "outputs": [
    {
     "name": "stdout",
     "output_type": "stream",
     "text": [
      "Welcome to Hangman\n",
      "\n",
      "\n",
      "Guess a letter'd'\n",
      "d _ _\n",
      "\n",
      "\n",
      "\n",
      "Guess a letter'o'\n",
      "d o _\n",
      "\n",
      "\n",
      "\n",
      "Guess a letter'g'\n",
      "d o g\n",
      "\n",
      "You Win!\n",
      "d o g\n"
     ]
    }
   ],
   "source": [
    "hangman(\"dog\")"
   ]
  },
  {
   "cell_type": "code",
   "execution_count": 114,
   "metadata": {
    "collapsed": false,
    "scrolled": true
   },
   "outputs": [
    {
     "name": "stdout",
     "output_type": "stream",
     "text": [
      "Welcome to Hangman\n",
      "\n",
      "\n",
      "Guess a letter'E'\n",
      "_ _ _\n",
      "\n",
      "_______       \n",
      "\n",
      "\n",
      "Guess a letter'e'\n",
      "e _ _\n",
      "\n",
      "_______       \n",
      "\n",
      "\n",
      "Guess a letter'g'\n",
      "e g _\n",
      "\n",
      "_______       \n",
      "\n",
      "\n",
      "Guess a letter'g'\n",
      "e g g\n",
      "\n",
      "_______       \n",
      "You Win!\n",
      "e g g\n"
     ]
    }
   ],
   "source": [
    "hangman(\"egg\")"
   ]
  }
 ],
 "metadata": {
  "kernelspec": {
   "display_name": "Python 2",
   "language": "python",
   "name": "python2"
  },
  "language_info": {
   "codemirror_mode": {
    "name": "ipython",
    "version": 2
   },
   "file_extension": ".py",
   "mimetype": "text/x-python",
   "name": "python",
   "nbconvert_exporter": "python",
   "pygments_lexer": "ipython2",
   "version": "2.7.13"
  }
 },
 "nbformat": 4,
 "nbformat_minor": 2
}
