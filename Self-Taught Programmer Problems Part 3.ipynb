{
 "cells": [
  {
   "cell_type": "code",
   "execution_count": 1,
   "metadata": {
    "collapsed": false
   },
   "outputs": [
    {
     "name": "stdout",
     "output_type": "stream",
     "text": [
      "Populating the interactive namespace from numpy and matplotlib\n"
     ]
    }
   ],
   "source": [
    "% pylab inline"
   ]
  },
  {
   "cell_type": "markdown",
   "metadata": {},
   "source": [
    "<font color= 'blue', size = 5 />__Chapter 17 Examples and Problems__<font>"
   ]
  },
  {
   "cell_type": "code",
   "execution_count": 2,
   "metadata": {
    "collapsed": true
   },
   "outputs": [],
   "source": [
    "import re\n",
    "\n",
    "zen = '''Although never is \n",
    "often better than \n",
    "*right* now.\n",
    "If the implementation \n",
    "is hard to explain, \n",
    "it's a bad idea. \n",
    "If the implementation \n",
    "is easy to explain, \n",
    "it may be a good \n",
    "idea. Namespaces \n",
    "are one honking \n",
    "great idea -- let's\n",
    "do more of those!\n",
    "'''"
   ]
  },
  {
   "cell_type": "code",
   "execution_count": 4,
   "metadata": {
    "collapsed": false
   },
   "outputs": [
    {
     "name": "stdout",
     "output_type": "stream",
     "text": [
      "['If', 'If']\n"
     ]
    }
   ],
   "source": [
    "m = re.findall(\"^If\", zen, re.MULTILINE)\n",
    "print(m)"
   ]
  },
  {
   "cell_type": "code",
   "execution_count": 5,
   "metadata": {
    "collapsed": false
   },
   "outputs": [
    {
     "name": "stdout",
     "output_type": "stream",
     "text": [
      "['Two', 'too']\n"
     ]
    }
   ],
   "source": [
    "string = \"Two too.\"\n",
    "m = re.findall(\"t[ow]o\", string, re.IGNORECASE)\n",
    "print(m)"
   ]
  },
  {
   "cell_type": "code",
   "execution_count": 6,
   "metadata": {
    "collapsed": false
   },
   "outputs": [
    {
     "name": "stdout",
     "output_type": "stream",
     "text": [
      "['1', '2', '3', '3', '4']\n"
     ]
    }
   ],
   "source": [
    "line = \"123?34 hello?\"\n",
    "m = re.findall(\"\\d\", line, re.IGNORECASE)\n",
    "print(m)"
   ]
  },
  {
   "cell_type": "code",
   "execution_count": 7,
   "metadata": {
    "collapsed": false
   },
   "outputs": [
    {
     "name": "stdout",
     "output_type": "stream",
     "text": [
      "__one__\n",
      "__tow__\n",
      "__three__\n"
     ]
    }
   ],
   "source": [
    "t = \"__one__ __tow__ __three__\"\n",
    "found = re.findall(\"__.*?__\", t)\n",
    "\n",
    "for match in found:\n",
    "    print(match)"
   ]
  },
  {
   "cell_type": "code",
   "execution_count": 9,
   "metadata": {
    "collapsed": false
   },
   "outputs": [
    {
     "name": "stdout",
     "output_type": "stream",
     "text": [
      "Enter a __PLURAL_NOUN__'scientists'\n",
      "Enter a __PLURAL_NOUN__'animals'\n",
      "Enter a __PART_OF_THE_BODY__'neck'\n",
      "Enter a __NUMBER__'ten'\n",
      "Enter a __PLURAL_NOUN__'feet'\n",
      "Enter a __BODYPART__'neck'\n",
      "\n",
      "\n",
      "Giraffes have aroused the curiosity of scientists since earlist times. The giraffe is the tallest of all living animals, but scientists are unable to explain how it got its long neck. The giraffe's tremendous height, which might reach ten feet, comes from it legs and neck.\n"
     ]
    }
   ],
   "source": [
    "# Mad Libs\n",
    "\n",
    "text = \"\"\"Giraffes have aroused \n",
    "the curiosity of __PLURAL_NOUN__ \n",
    "since earlist times. The \n",
    "giraffe is the tallest of all \n",
    "living __PLURAL_NOUN__, but \n",
    "scientists are unable to \n",
    "explain how it got its long \n",
    "__PART_OF_THE_BODY__. The \n",
    "giraffe's tremendous height, \n",
    "which might reach __NUMBER__ \n",
    "__PLURAL_NOUN__, comes from \n",
    "it legs and __BODYPART__.\n",
    "\"\"\"\n",
    "\n",
    "def mad_libs(mls):\n",
    "    \"\"\"\n",
    "    :param mls: String with parts the user should fill out surrounded by double underscores.\n",
    "    Underscores cannot be inside hint e.g., no __hint_hint__ only __hint__.\n",
    "    \"\"\"\n",
    "    hints = re.findall(\"__.*?__\", mls)\n",
    "    \n",
    "    if hints is not None:\n",
    "        for word in hints:\n",
    "            q = \"Enter a {}\".format(word)\n",
    "            new = input(q)\n",
    "            mls = mls.replace(word, new, 1)\n",
    "        print('\\n')\n",
    "        mls = mls.replace(\"\\n\", \"\")\n",
    "        print(mls)\n",
    "    else:\n",
    "        print(\"invalid mls\")\n",
    "        \n",
    "mad_libs(text)"
   ]
  },
  {
   "cell_type": "code",
   "execution_count": 10,
   "metadata": {
    "collapsed": false
   },
   "outputs": [
    {
     "name": "stdout",
     "output_type": "stream",
     "text": [
      "['$']\n"
     ]
    }
   ],
   "source": [
    "line = \"I love $\"\n",
    "m = re.findall(\"\\\\$\", line, re.IGNORECASE)\n",
    "print(m)"
   ]
  },
  {
   "cell_type": "code",
   "execution_count": 14,
   "metadata": {
    "collapsed": false
   },
   "outputs": [
    {
     "name": "stdout",
     "output_type": "stream",
     "text": [
      "['boo', 'loo']\n"
     ]
    }
   ],
   "source": [
    "# 3\n",
    "sentence = \"The ghost that says boo haunts the loo.\"\n",
    "\n",
    "m = re.findall(\".oo\", sentence)\n",
    "print(m)"
   ]
  },
  {
   "cell_type": "markdown",
   "metadata": {},
   "source": [
    "<font color= 'blue', size = 5 />__Chapter 18 Examples and Problems__<font>"
   ]
  },
  {
   "cell_type": "code",
   "execution_count": 17,
   "metadata": {
    "collapsed": true
   },
   "outputs": [],
   "source": [
    "from flask import Flask"
   ]
  },
  {
   "cell_type": "code",
   "execution_count": 18,
   "metadata": {
    "collapsed": false
   },
   "outputs": [
    {
     "name": "stderr",
     "output_type": "stream",
     "text": [
      " * Running on http://127.0.0.1:8000/ (Press CTRL+C to quit)\n",
      "127.0.0.1 - - [22/Oct/2017 22:46:12] \"GET / HTTP/1.1\" 200 -\n",
      "127.0.0.1 - - [22/Oct/2017 22:46:12] \"GET /favicon.ico HTTP/1.1\" 404 -\n"
     ]
    }
   ],
   "source": [
    "app = Flask(__name__)\n",
    "\n",
    "@app.route('/')\n",
    "def index():\n",
    "    return \"Hello, World!\"\n",
    "\n",
    "app.run(port='8000')"
   ]
  },
  {
   "cell_type": "code",
   "execution_count": null,
   "metadata": {
    "collapsed": true
   },
   "outputs": [],
   "source": []
  }
 ],
 "metadata": {
  "kernelspec": {
   "display_name": "Python 2",
   "language": "python",
   "name": "python2"
  },
  "language_info": {
   "codemirror_mode": {
    "name": "ipython",
    "version": 2
   },
   "file_extension": ".py",
   "mimetype": "text/x-python",
   "name": "python",
   "nbconvert_exporter": "python",
   "pygments_lexer": "ipython2",
   "version": "2.7.13"
  }
 },
 "nbformat": 4,
 "nbformat_minor": 2
}
